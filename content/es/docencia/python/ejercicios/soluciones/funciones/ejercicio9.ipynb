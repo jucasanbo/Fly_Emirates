{
  "cells": [
    {
      "cell_type": "markdown",
      "metadata": {
        "id": "NZbzCP5G9o_h"
      },
      "source": [
        "## Ejercicio\n",
        "\n",
        "Escribir una función que calcule el máximo común divisor de dos números y otra que calcule el mínimo común múltiplo."
      ]
    },
    {
      "cell_type": "markdown",
      "metadata": {
        "id": "CZ_0mxin9o_l"
      },
      "source": [
        "## Solución"
      ]
    },
    {
      "cell_type": "code",
      "execution_count": null,
      "metadata": {
        "id": "xM3H-gio9o_m",
        "outputId": "144eb8bd-0ff5-4107-8642-13c453a99266"
      },
      "outputs": [
        {
          "name": "stdout",
          "output_type": "stream",
          "text": [
            "12\n",
            "72\n"
          ]
        }
      ],
      "source": [
        "def mcd(n, m):\n",
        "    \"\"\"Función que calcula el máximo común divisor de dos números.\n",
        "    Parámetros:\n",
        "        - n: Es un número entero.\n",
        "        - m: Es un número entero.\n",
        "    Devuelve:\n",
        "        El máximo común divisor de n y m.\n",
        "    \"\"\"\n",
        "    rest = 0\n",
        "    while(m > 0):\n",
        "        rest = m\n",
        "        m = n % m\n",
        "        n = rest\n",
        "    return n\n",
        "\n",
        "def mcm(n, m):\n",
        "    \"\"\"Función que calcula el mínimo común múltiplo de dos números.\n",
        "    Parámetros:\n",
        "        - n: Es un número entero.\n",
        "        - m: Es un número entero.\n",
        "    Devuelve:\n",
        "        El mínimo común múltiplo de n y m.\n",
        "    \"\"\"\n",
        "    if n > m:\n",
        "        greater = n\n",
        "    else:\n",
        "        greater = m\n",
        "    while (greater % n != 0) or (greater % m != 0):\n",
        "        greater += 1\n",
        "    return greater\n",
        "\n",
        "print(mcd(24,36))\n",
        "print(mcm(24,36))"
      ]
    },
    {
      "cell_type": "code",
      "execution_count": 1,
      "metadata": {
        "id": "Vl8-LA-P9o_p",
        "outputId": "0d47d2d3-ea63-4f1f-ba81-45ae680d13fd",
        "colab": {
          "base_uri": "https://localhost:8080/"
        }
      },
      "outputs": [
        {
          "output_type": "stream",
          "name": "stdout",
          "text": [
            "Please enter your age: 34\n",
            "El numero asignado es: 595\n"
          ]
        }
      ],
      "source": [
        "# prompt: quiero un codigo donde crees una funcion para hacer una secuencia de numeros que se incrementen de acuardo a la edad de un usuario el cual quiero que lo solicitus (input) y luego imprimas la variante final con el texto \"el numero asignado es....\"\n",
        "\n",
        "def generate_sequence(age):\n",
        "  \"\"\"Generates a sequence of numbers based on the user's age.\n",
        "\n",
        "  Args:\n",
        "    age: The user's age (integer).\n",
        "\n",
        "  Returns:\n",
        "    The final number in the sequence.\n",
        "  \"\"\"\n",
        "  try:\n",
        "    age = int(age)\n",
        "    if age <= 0:\n",
        "        raise ValueError(\"Age must be a positive integer.\")\n",
        "\n",
        "    final_number = 0\n",
        "    for i in range(1, age + 1):\n",
        "      final_number += i\n",
        "    return final_number\n",
        "\n",
        "  except ValueError as e:\n",
        "    print(f\"Invalid input: {e}\")\n",
        "    return None\n",
        "\n",
        "user_age = input(\"Please enter your age: \")\n",
        "result = generate_sequence(user_age)\n",
        "\n",
        "if result is not None:\n",
        "  print(f\"El numero asignado es: {result}\")"
      ]
    }
  ],
  "metadata": {
    "kernelspec": {
      "display_name": "Python 3",
      "language": "python",
      "name": "python3"
    },
    "language_info": {
      "codemirror_mode": {
        "name": "ipython",
        "version": 3
      },
      "file_extension": ".py",
      "mimetype": "text/x-python",
      "name": "python",
      "nbconvert_exporter": "python",
      "pygments_lexer": "ipython3",
      "version": "3.6.8"
    },
    "colab": {
      "provenance": []
    }
  },
  "nbformat": 4,
  "nbformat_minor": 0
}